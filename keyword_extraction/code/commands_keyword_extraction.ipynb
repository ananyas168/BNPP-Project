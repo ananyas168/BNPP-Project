{
  "nbformat": 4,
  "nbformat_minor": 0,
  "metadata": {
    "colab": {
      "name": "commands_keyword_extraction.ipynb",
      "provenance": [],
      "authorship_tag": "ABX9TyNlRrKOvhphiq2l11JzMrOi",
      "include_colab_link": true
    },
    "kernelspec": {
      "name": "python3",
      "display_name": "Python 3"
    },
    "language_info": {
      "name": "python"
    }
  },
  "cells": [
    {
      "cell_type": "markdown",
      "metadata": {
        "id": "view-in-github",
        "colab_type": "text"
      },
      "source": [
        "<a href=\"https://colab.research.google.com/github/ananyas168/BNPP-Project/blob/main/keyword_extraction/code/commands_keyword_extraction.ipynb\" target=\"_parent\"><img src=\"https://colab.research.google.com/assets/colab-badge.svg\" alt=\"Open In Colab\"/></a>"
      ]
    },
    {
      "cell_type": "code",
      "execution_count": 1,
      "metadata": {
        "colab": {
          "base_uri": "https://localhost:8080/"
        },
        "id": "gC2UJtB4BeZF",
        "outputId": "23b4e43c-f120-49e7-bbbb-c0d6c1b15ad4"
      },
      "outputs": [
        {
          "output_type": "stream",
          "name": "stdout",
          "text": [
            "Cloning into 'semanticClimate'...\n",
            "remote: Enumerating objects: 3329, done.\u001b[K\n",
            "remote: Counting objects: 100% (255/255), done.\u001b[K\n",
            "remote: Compressing objects: 100% (116/116), done.\u001b[K\n",
            "remote: Total 3329 (delta 89), reused 198 (delta 72), pack-reused 3074\u001b[K\n",
            "Receiving objects: 100% (3329/3329), 248.19 MiB | 24.64 MiB/s, done.\n",
            "Resolving deltas: 100% (1635/1635), done.\n",
            "Checking out files: 100% (2776/2776), done.\n"
          ]
        }
      ],
      "source": [
        "#!pip install -r /content/requirement.txt\n",
        "!git clone  https://github.com/petermr/semanticClimate.git"
      ]
    },
    {
      "cell_type": "code",
      "source": [
        "%cd /content/semanticClimate/keyword_extraction/code/"
      ],
      "metadata": {
        "colab": {
          "base_uri": "https://localhost:8080/"
        },
        "id": "gzNtd24SFlN2",
        "outputId": "1ab30d41-60b1-48c5-9740-8d8b3afc2061"
      },
      "execution_count": 2,
      "outputs": [
        {
          "output_type": "stream",
          "name": "stdout",
          "text": [
            "/content/semanticClimate/keyword_extraction/code\n"
          ]
        }
      ]
    },
    {
      "cell_type": "code",
      "source": [
        "!python /keyword_extraction.py \\\n",
        "--html_path /content/semanticClimate/ipcc/ar6/wg3/Chapter16/fulltext.flow.html \\\n",
        "--saving_path /content/semanticClimate/keyword_extraction/code/output/ \\\n",
        "--method 'rake' "
      ],
      "metadata": {
        "id": "0FeifwWDCw5l"
      },
      "execution_count": null,
      "outputs": []
    }
  ]
}